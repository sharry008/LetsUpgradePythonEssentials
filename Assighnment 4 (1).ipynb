{
 "cells": [
  {
   "cell_type": "code",
   "execution_count": 1,
   "metadata": {},
   "outputs": [
    {
     "name": "stdout",
     "output_type": "stream",
     "text": [
      "initial_strings :  what we think we become; we are python programmers \n",
      "substring :  we\n",
      "resultant positions [5]\n",
      "resultant positions [5, 14]\n",
      "resultant positions [5, 14, 25]\n"
     ]
    }
   ],
   "source": [
    "ini_string = \"what we think we become; we are python programmers\"\n",
    "sub_string = 'we'\n",
    "print(\"initial_strings : \", ini_string, \"\\nsubstring : \", sub_string)\n",
    "res = []\n",
    "flag = 0\n",
    "k = 0\n",
    "for i in range(0,len(ini_string)):\n",
    "    k = i\n",
    "    flag = 0\n",
    "    for j in range(0, len(sub_string)):\n",
    "        if ini_string[k] != sub_string[j]:\n",
    "            flag = 1\n",
    "        if flag:\n",
    "            break\n",
    "        k = k + 1\n",
    "    if flag == 0:\n",
    "        res.append(i)\n",
    "\n",
    "        print(\"resultant positions\", str(res))"
   ]
  },
  {
   "cell_type": "code",
   "execution_count": 4,
   "metadata": {},
   "outputs": [
    {
     "name": "stdout",
     "output_type": "stream",
     "text": [
      "True\n",
      "True\n"
     ]
    }
   ],
   "source": [
    "string=\"HELLO\"\n",
    "print(string.isupper())\n",
    "\n",
    "str=\"hello\"\n",
    "print (str.islower())"
   ]
  },
  {
   "cell_type": "code",
   "execution_count": null,
   "metadata": {},
   "outputs": [],
   "source": []
  }
 ],
 "metadata": {
  "kernelspec": {
   "display_name": "Python 3",
   "language": "python",
   "name": "python3"
  },
  "language_info": {
   "codemirror_mode": {
    "name": "ipython",
    "version": 3
   },
   "file_extension": ".py",
   "mimetype": "text/x-python",
   "name": "python",
   "nbconvert_exporter": "python",
   "pygments_lexer": "ipython3",
   "version": "3.7.6"
  }
 },
 "nbformat": 4,
 "nbformat_minor": 4
}
